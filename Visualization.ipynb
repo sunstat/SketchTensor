{
 "cells": [
  {
   "cell_type": "code",
   "execution_count": 23,
   "metadata": {
    "collapsed": true
   },
   "outputs": [],
   "source": [
    "import numpy as np\n",
    "from scipy import fftpack\n",
    "import tensorly as tl\n",
    "from util import square_tensor_gen, TensorInfoBucket, RandomInfoBucket, eval_mse, eval_rerr\n",
    "from sketch import Sketch\n",
    "import time\n",
    "from tensorly.decomposition import tucker\n",
    "from sketch_recover import SketchTwoPassRecover\n",
    "from sketch_recover import SketchOnePassRecover\n",
    "import matplotlib \n",
    "import matplotlib.pyplot as plt\n",
    "from simulation import Simulation\n",
    "import pickle \n",
    "plt.style.use('seaborn-paper')\n",
    "%matplotlib inline "
   ]
  },
  {
   "cell_type": "code",
   "execution_count": 25,
   "metadata": {
    "collapsed": true
   },
   "outputs": [],
   "source": [
    "gen_types = ['id', 'id1', 'id2', 'spd', 'fpd', 'sed', 'fed', 'lk']\n",
    "rs = [1,5]\n",
    "dim = 3"
   ]
  },
  {
   "cell_type": "code",
   "execution_count": 51,
   "metadata": {
    "collapsed": true
   },
   "outputs": [],
   "source": [
    "def plot_row(gen_type,r,noise_level,name, ns = np.arange(100,201,100), dim = 3, sim_runs = 1):\n",
    "    plt.close()\n",
    "    plt.figure(figsize = (len(ns)*5,5))\n",
    "    for plot_id, n in enumerate(ns): \n",
    "        ks =np.arange(r, int(n/2),int(n/20)) \n",
    "        ho_svd_rerr = np.zeros(len(ks))\n",
    "        two_pass_rerr = np.zeros(len(ks))\n",
    "        one_pass_rerr = np.zeros(len(ks))\n",
    "        for idx, k in enumerate(ks): \n",
    "            simu = Simulation(np.repeat(n,dim), r, k, 2*k, RandomInfoBucket(random_seed), gen_type, noise_level)\n",
    "            _, rerr = simu.ho_svd()\n",
    "            ho_svd_rerr[idx] = rerr \n",
    "            _, rerr = simu.two_pass() \n",
    "            two_pass_rerr[idx] = rerr\n",
    "            _, rerr = simu.one_pass()\n",
    "            one_pass_rerr[idx] = rerr \n",
    "        print(ho_svd_rerr)\n",
    "        print(two_pass_rerr)\n",
    "        print(one_pass_rerr)\n",
    "        plt.subplot(1,len(ns),plot_id+1) \n",
    "        plt.plot(ks/n,two_pass_rerr, label = 'two_pass',linestyle = '--',marker = 'X')\n",
    "        plt.title('two_pass')\n",
    "        plt.plot(ks/n,one_pass_rerr, label = 'one_pass', marker = 's',markeredgewidth=1,markeredgecolor='orange', markerfacecolor='None') \n",
    "        plt.title('one_pass') \n",
    "        plt.plot(ks/n,ho_svd_rerr, label = 'hosvd', linestyle = ':', marker = 'o', markeredgewidth=1,markeredgecolor='g', markerfacecolor='None') \n",
    "        plt.title('hosvd') \n",
    "        plt.legend(loc = 'best')\n",
    "        plt.title(\"I = %s\"%(n))\n",
    "        plt.xlabel('k/I')\n",
    "        plt.ylabel('log(Relative Error)')\n",
    "        plt.yscale('log')\n",
    "        plt.axis('equal')\n",
    "        xmin, xmax = plt.xlim()  \n",
    "        plt.xlim((0, xmax))  \n",
    "        ymin, ymax = plt.ylim()  \n",
    "        plt.ylim((ymin, ymax))   \n",
    "    plt.tight_layout()\n",
    "    plt.savefig('plots/'+name)\n",
    "    plt.show()"
   ]
  },
  {
   "cell_type": "code",
   "execution_count": 54,
   "metadata": {
    "scrolled": true
   },
   "outputs": [
    {
     "name": "stderr",
     "output_type": "stream",
     "text": [
      "Using numpy backend.\n",
      "Using numpy backend.\n",
      "Using numpy backend.\n",
      "Using numpy backend.\n",
      "Using numpy backend.\n",
      "Using numpy backend.\n",
      "Using numpy backend.\n",
      "Using numpy backend.\n",
      "Using numpy backend.\n",
      "Using numpy backend.\n",
      "Using numpy backend.\n",
      "Using numpy backend.\n",
      "Using numpy backend.\n",
      "Using numpy backend.\n",
      "Using numpy backend.\n",
      "Using numpy backend.\n",
      "Using numpy backend.\n",
      "Using numpy backend.\n",
      "Using numpy backend.\n",
      "Using numpy backend.\n",
      "Using numpy backend.\n",
      "Using numpy backend.\n",
      "Using numpy backend.\n",
      "Using numpy backend.\n",
      "Using numpy backend.\n",
      "Using numpy backend.\n",
      "Using numpy backend.\n",
      "Using numpy backend.\n",
      "Using numpy backend.\n",
      "Using numpy backend.\n",
      "Using numpy backend.\n",
      "Using numpy backend.\n",
      "Using numpy backend.\n",
      "Using numpy backend.\n",
      "Using numpy backend.\n",
      "Using numpy backend.\n",
      "Using numpy backend.\n",
      "Using numpy backend.\n",
      "Using numpy backend.\n",
      "Using numpy backend.\n",
      "Using numpy backend.\n",
      "Using numpy backend.\n",
      "Using numpy backend.\n",
      "Using numpy backend.\n",
      "Using numpy backend.\n",
      "Using numpy backend.\n",
      "Using numpy backend.\n",
      "Using numpy backend.\n",
      "Using numpy backend.\n",
      "Using numpy backend.\n"
     ]
    },
    {
     "name": "stdout",
     "output_type": "stream",
     "text": [
      "[0.00999341 0.00999837 0.01000172 0.01000238 0.00999774 0.00999272\n",
      " 0.01000015 0.00999822 0.00999643 0.00999784]\n",
      "[0.20807221 0.01701969 0.01285806 0.01191734 0.01125923 0.01107478\n",
      " 0.01098095 0.01062113 0.01056449 0.01043083]"
     ]
    },
    {
     "name": "stderr",
     "output_type": "stream",
     "text": [
      "Using numpy backend.\n",
      "Using numpy backend.\n",
      "Using numpy backend.\n",
      "Using numpy backend.\n",
      "Using numpy backend.\n",
      "Using numpy backend.\n",
      "Using numpy backend.\n",
      "Using numpy backend.\n",
      "Using numpy backend.\n",
      "Using numpy backend.\n",
      "Using numpy backend.\n",
      "Using numpy backend.\n",
      "Using numpy backend.\n",
      "Using numpy backend.\n",
      "Using numpy backend.\n",
      "Using numpy backend.\n",
      "Using numpy backend.\n",
      "Using numpy backend.\n",
      "Using numpy backend.\n",
      "Using numpy backend.\n",
      "Using numpy backend.\n",
      "Using numpy backend.\n",
      "Using numpy backend.\n",
      "Using numpy backend.\n",
      "Using numpy backend.\n",
      "Using numpy backend.\n",
      "Using numpy backend.\n",
      "Using numpy backend.\n",
      "Using numpy backend.\n",
      "Using numpy backend.\n",
      "Using numpy backend.\n",
      "Using numpy backend.\n",
      "Using numpy backend.\n",
      "Using numpy backend.\n",
      "Using numpy backend.\n",
      "Using numpy backend.\n",
      "Using numpy backend.\n",
      "Using numpy backend.\n",
      "Using numpy backend.\n",
      "Using numpy backend.\n",
      "Using numpy backend.\n",
      "Using numpy backend.\n",
      "Using numpy backend.\n",
      "Using numpy backend.\n",
      "Using numpy backend.\n",
      "Using numpy backend.\n",
      "Using numpy backend.\n",
      "Using numpy backend.\n",
      "Using numpy backend.\n",
      "Using numpy backend.\n"
     ]
    },
    {
     "name": "stdout",
     "output_type": "stream",
     "text": [
      "\n",
      "[0.20880297 0.01713107 0.01630616 0.01315617 0.01273441 0.01210602\n",
      " 0.01167125 0.01141303 0.01126866 0.01092273]\n",
      "[0.00999899 0.00999912 0.00999955 0.00999942 0.00999984 0.01000039\n",
      " 0.00999912 0.00999968 0.00999986 0.01000098]\n",
      "[0.12411233 0.01365026 0.0116597  0.01107343 0.01076067 0.01054943\n",
      " 0.01043487 0.01034933 0.01028215 0.01023283]\n",
      "[0.0633571  0.01602529 0.01306914 0.01202638 0.01129866 0.01098093\n",
      " 0.01086367 0.01072806 0.01052398 0.01044416]\n"
     ]
    },
    {
     "name": "stderr",
     "output_type": "stream",
     "text": [
      "Using numpy backend.\n",
      "Using numpy backend.\n",
      "Using numpy backend.\n",
      "Using numpy backend.\n",
      "Using numpy backend.\n",
      "Using numpy backend.\n",
      "Using numpy backend.\n",
      "Using numpy backend.\n",
      "Using numpy backend.\n",
      "Using numpy backend.\n",
      "Using numpy backend.\n",
      "Using numpy backend.\n",
      "Using numpy backend.\n",
      "Using numpy backend.\n",
      "Using numpy backend.\n",
      "Using numpy backend.\n",
      "Using numpy backend.\n",
      "Using numpy backend.\n",
      "Using numpy backend.\n",
      "Using numpy backend.\n",
      "Using numpy backend.\n",
      "Using numpy backend.\n",
      "Using numpy backend.\n",
      "Using numpy backend.\n",
      "Using numpy backend.\n",
      "Using numpy backend.\n",
      "Using numpy backend.\n",
      "Using numpy backend.\n",
      "Using numpy backend.\n",
      "Using numpy backend.\n",
      "Using numpy backend.\n",
      "Using numpy backend.\n",
      "Using numpy backend.\n",
      "Using numpy backend.\n",
      "Using numpy backend.\n",
      "Using numpy backend.\n",
      "Using numpy backend.\n",
      "Using numpy backend.\n",
      "Using numpy backend.\n",
      "Using numpy backend.\n",
      "Using numpy backend.\n",
      "Using numpy backend.\n",
      "Using numpy backend.\n",
      "Using numpy backend.\n",
      "Using numpy backend.\n",
      "Using numpy backend.\n",
      "Using numpy backend.\n",
      "Using numpy backend.\n",
      "Using numpy backend.\n",
      "Using numpy backend.\n"
     ]
    },
    {
     "name": "stdout",
     "output_type": "stream",
     "text": [
      "[0.01000039 0.00999969 0.01000052 0.00999923 0.00999932 0.00999966\n",
      " 0.01000009 0.00999998 0.01000012 0.00999971]\n",
      "[0.21550124 0.01230737 0.01103371 0.0107168  0.01050389 0.01036211\n",
      " 0.0102865  0.0102379  0.0101835  0.01014204]\n",
      "[0.34714055 0.01448987 0.01212491 0.0114156  0.01094224 0.01076587\n",
      " 0.01054011 0.01045335 0.01035424 0.01028411]\n"
     ]
    },
    {
     "name": "stderr",
     "output_type": "stream",
     "text": [
      "/Users/apple/anaconda3/lib/python3.6/site-packages/matplotlib/axes/_base.py:1376: UserWarning: aspect is not supported for Axes with xscale=linear, yscale=log\n",
      "  'yscale=%s' % (xscale, yscale))\n"
     ]
    },
    {
     "data": {
      "image/png": "[encoded data removed]",
      "text/plain": [
       "<matplotlib.figure.Figure at 0x1c12b4ac50>"
      ]
     },
     "metadata": {},
     "output_type": "display_data"
    }
   ],
   "source": [
    "plot_row('id',5,0.01,\"id_lnoise.pdf\",ns = np.arange(200,601,200), sim_runs = 1)"
   ]
  },
  {
   "cell_type": "code",
   "execution_count": null,
   "metadata": {
    "scrolled": true
   },
   "outputs": [
    {
     "name": "stderr",
     "output_type": "stream",
     "text": [
      "Using numpy backend.\n",
      "Using numpy backend.\n",
      "Using numpy backend.\n",
      "Using numpy backend.\n",
      "Using numpy backend.\n",
      "Using numpy backend.\n",
      "Using numpy backend.\n",
      "Using numpy backend.\n",
      "Using numpy backend.\n",
      "Using numpy backend.\n",
      "Using numpy backend.\n",
      "Using numpy backend.\n",
      "Using numpy backend.\n",
      "Using numpy backend.\n",
      "Using numpy backend.\n",
      "Using numpy backend.\n",
      "Using numpy backend.\n",
      "Using numpy backend.\n",
      "Using numpy backend.\n",
      "Using numpy backend.\n",
      "Using numpy backend.\n",
      "Using numpy backend.\n",
      "Using numpy backend.\n",
      "Using numpy backend.\n",
      "Using numpy backend.\n",
      "Using numpy backend.\n",
      "Using numpy backend.\n",
      "Using numpy backend.\n",
      "Using numpy backend.\n",
      "Using numpy backend.\n",
      "Using numpy backend.\n",
      "Using numpy backend.\n",
      "Using numpy backend.\n",
      "Using numpy backend.\n",
      "Using numpy backend.\n",
      "Using numpy backend.\n",
      "Using numpy backend.\n",
      "Using numpy backend.\n",
      "Using numpy backend.\n",
      "Using numpy backend.\n",
      "Using numpy backend.\n",
      "Using numpy backend.\n",
      "Using numpy backend.\n",
      "Using numpy backend.\n",
      "Using numpy backend.\n",
      "Using numpy backend.\n",
      "Using numpy backend.\n",
      "Using numpy backend.\n",
      "Using numpy backend.\n",
      "Using numpy backend.\n"
     ]
    },
    {
     "name": "stdout",
     "output_type": "stream",
     "text": [
      "[0.09998912 0.09997423 0.09998477 0.09993213 0.09995889 0.09997532\n",
      " 0.09998772 0.10001592 0.09996502 0.09995161]\n",
      "[0.58500439 0.16603237 0.13120113 0.11904448 0.11512112 0.11125947\n",
      " 0.10872735 0.10697802 0.10529572 0.10419468]\n",
      "[0.50872722 0.21519989 0.1489024  0.13932324 0.12886861 0.1217917\n",
      " 0.11483416 0.11292935 0.11103623 0.10872257]\n"
     ]
    },
    {
     "name": "stderr",
     "output_type": "stream",
     "text": [
      "Using numpy backend.\n",
      "Using numpy backend.\n",
      "Using numpy backend.\n",
      "Using numpy backend.\n",
      "Using numpy backend.\n",
      "Using numpy backend.\n",
      "Using numpy backend.\n",
      "Using numpy backend.\n",
      "Using numpy backend.\n",
      "Using numpy backend.\n",
      "Using numpy backend.\n",
      "Using numpy backend.\n",
      "Using numpy backend.\n",
      "Using numpy backend.\n",
      "Using numpy backend.\n",
      "Using numpy backend.\n",
      "Using numpy backend.\n",
      "Using numpy backend.\n",
      "Using numpy backend.\n",
      "Using numpy backend.\n",
      "Using numpy backend.\n",
      "Using numpy backend.\n",
      "Using numpy backend.\n",
      "Using numpy backend.\n",
      "Using numpy backend.\n",
      "Using numpy backend.\n",
      "Using numpy backend.\n",
      "Using numpy backend.\n",
      "Using numpy backend.\n",
      "Using numpy backend.\n",
      "Using numpy backend.\n",
      "Using numpy backend.\n",
      "Using numpy backend.\n",
      "Using numpy backend.\n",
      "Using numpy backend.\n",
      "Using numpy backend.\n",
      "Using numpy backend.\n",
      "Using numpy backend.\n",
      "Using numpy backend.\n",
      "Using numpy backend.\n",
      "Using numpy backend.\n",
      "Using numpy backend.\n",
      "Using numpy backend.\n",
      "Using numpy backend.\n",
      "Using numpy backend.\n",
      "Using numpy backend.\n",
      "Using numpy backend.\n",
      "Using numpy backend.\n",
      "Using numpy backend.\n",
      "Using numpy backend.\n"
     ]
    },
    {
     "name": "stdout",
     "output_type": "stream",
     "text": [
      "[0.09998946 0.09999697 0.10000455 0.10000874 0.10001214 0.09999399\n",
      " 0.09999871 0.09997781 0.09998982 0.10000282]\n",
      "[0.54512713 0.13231107 0.11669444 0.10986713 0.10666534 0.10532289\n",
      " 0.10411669 0.10310892 0.10255579 0.10227767]\n",
      "[0.7683773  0.15183733 0.12833476 0.11893316 0.11447647 0.11053282\n",
      " 0.10858029 0.10660423 0.10517543 0.10420388]\n"
     ]
    },
    {
     "name": "stderr",
     "output_type": "stream",
     "text": [
      "Using numpy backend.\n",
      "Using numpy backend.\n",
      "Using numpy backend.\n",
      "Using numpy backend.\n",
      "Using numpy backend.\n",
      "Using numpy backend.\n",
      "Using numpy backend.\n",
      "Using numpy backend.\n",
      "Using numpy backend.\n",
      "Using numpy backend.\n",
      "Using numpy backend.\n",
      "Using numpy backend.\n",
      "Using numpy backend.\n",
      "Using numpy backend.\n",
      "Using numpy backend.\n",
      "Using numpy backend.\n",
      "Using numpy backend.\n",
      "Using numpy backend.\n",
      "Using numpy backend.\n",
      "Using numpy backend.\n",
      "Using numpy backend.\n",
      "Using numpy backend.\n",
      "Using numpy backend.\n",
      "Using numpy backend.\n",
      "Using numpy backend.\n",
      "Using numpy backend.\n",
      "Using numpy backend.\n",
      "Using numpy backend.\n",
      "Using numpy backend.\n",
      "Using numpy backend.\n",
      "Using numpy backend.\n",
      "Using numpy backend.\n",
      "Using numpy backend.\n",
      "Using numpy backend.\n",
      "Using numpy backend.\n",
      "Using numpy backend.\n",
      "Using numpy backend.\n",
      "Using numpy backend.\n",
      "Using numpy backend.\n",
      "Using numpy backend.\n",
      "Using numpy backend.\n",
      "Using numpy backend.\n",
      "Using numpy backend.\n",
      "Using numpy backend.\n",
      "Using numpy backend.\n",
      "Using numpy backend.\n",
      "Using numpy backend.\n",
      "Using numpy backend.\n",
      "Using numpy backend.\n",
      "Using numpy backend.\n"
     ]
    },
    {
     "name": "stdout",
     "output_type": "stream",
     "text": [
      "[0.10000259 0.09999778 0.10000327 0.09998735 0.09999911 0.09999837\n",
      " 0.09999555 0.10000123 0.09998783 0.10000088]\n",
      "[0.37385342 0.12159429 0.11162244 0.10694163 0.10509526 0.10341029\n",
      " 0.1026575  0.10230419 0.10183424 0.10150559]\n",
      "[0.6360668  0.14077362 0.12333733 0.11308746 0.10947577 0.10709654\n",
      " 0.10588251 0.10442842 0.10383518 0.10300036]\n"
     ]
    },
    {
     "name": "stderr",
     "output_type": "stream",
     "text": [
      "/Users/apple/anaconda3/lib/python3.6/site-packages/matplotlib/axes/_base.py:1376: UserWarning: aspect is not supported for Axes with xscale=linear, yscale=log\n",
      "  'yscale=%s' % (xscale, yscale))\n"
     ]
    },
    {
     "data": {
      "image/png": "[encoded data removed]",
      "text/plain": [
       "<matplotlib.figure.Figure at 0x1c136d0eb8>"
      ]
     },
     "metadata": {},
     "output_type": "display_data"
    }
   ],
   "source": [
    "plot_row('id',5,0.1,\"id_mnoise.pdf\",ns = np.arange(200,601,200), sim_runs = 1)"
   ]
  },
  {
   "cell_type": "code",
   "execution_count": null,
   "metadata": {},
   "outputs": [
    {
     "name": "stderr",
     "output_type": "stream",
     "text": [
      "Using numpy backend.\n",
      "Using numpy backend.\n",
      "Using numpy backend.\n",
      "Using numpy backend.\n",
      "Using numpy backend.\n",
      "Using numpy backend.\n",
      "Using numpy backend.\n",
      "Using numpy backend.\n",
      "Using numpy backend.\n",
      "Using numpy backend.\n",
      "Using numpy backend.\n",
      "Using numpy backend.\n",
      "Using numpy backend.\n",
      "Using numpy backend.\n",
      "Using numpy backend.\n",
      "Using numpy backend.\n",
      "Using numpy backend.\n",
      "Using numpy backend.\n",
      "Using numpy backend.\n",
      "Using numpy backend.\n",
      "Using numpy backend.\n",
      "Using numpy backend.\n",
      "Using numpy backend.\n",
      "Using numpy backend.\n",
      "Using numpy backend.\n",
      "Using numpy backend.\n",
      "Using numpy backend.\n",
      "Using numpy backend.\n",
      "Using numpy backend.\n",
      "Using numpy backend.\n",
      "Using numpy backend.\n",
      "Using numpy backend.\n",
      "Using numpy backend.\n",
      "Using numpy backend.\n",
      "Using numpy backend.\n",
      "Using numpy backend.\n",
      "Using numpy backend.\n",
      "Using numpy backend.\n",
      "Using numpy backend.\n",
      "Using numpy backend.\n",
      "Using numpy backend.\n",
      "Using numpy backend.\n",
      "Using numpy backend.\n",
      "Using numpy backend.\n",
      "Using numpy backend.\n",
      "Using numpy backend.\n",
      "Using numpy backend.\n",
      "Using numpy backend.\n",
      "Using numpy backend.\n",
      "Using numpy backend.\n"
     ]
    },
    {
     "name": "stdout",
     "output_type": "stream",
     "text": [
      "[0.99992363 0.99988275 0.99984257 0.99961595 1.00047391 0.99990725\n",
      " 1.0000187  0.9994984  0.99995464 0.99976063]\n",
      "[1.39783173 1.29011335 1.2031381  1.13621188 1.11605585 1.08793085\n",
      " 1.07622122 1.05904695 1.04405111 1.03867765]\n",
      "[1.65344842 1.75136388 1.37268852 1.29021333 1.25218807 1.18073087\n",
      " 1.15191405 1.11849034 1.09326818 1.08547973]\n"
     ]
    },
    {
     "name": "stderr",
     "output_type": "stream",
     "text": [
      "Using numpy backend.\n",
      "Using numpy backend.\n",
      "Using numpy backend.\n",
      "Using numpy backend.\n",
      "Using numpy backend.\n",
      "Using numpy backend.\n",
      "Using numpy backend.\n",
      "Using numpy backend.\n",
      "Using numpy backend.\n",
      "Using numpy backend.\n",
      "Using numpy backend.\n",
      "Using numpy backend.\n",
      "Using numpy backend.\n",
      "Using numpy backend.\n",
      "Using numpy backend.\n",
      "Using numpy backend.\n",
      "Using numpy backend.\n",
      "Using numpy backend.\n",
      "Using numpy backend.\n",
      "Using numpy backend.\n",
      "Using numpy backend.\n",
      "Using numpy backend.\n",
      "Using numpy backend.\n",
      "Using numpy backend.\n",
      "Using numpy backend.\n",
      "Using numpy backend.\n",
      "Using numpy backend.\n",
      "Using numpy backend.\n",
      "Using numpy backend.\n",
      "Using numpy backend.\n",
      "Using numpy backend.\n",
      "Using numpy backend.\n",
      "Using numpy backend.\n",
      "Using numpy backend.\n",
      "Using numpy backend.\n",
      "Using numpy backend.\n",
      "Using numpy backend.\n",
      "Using numpy backend.\n",
      "Using numpy backend.\n",
      "Using numpy backend.\n",
      "Using numpy backend.\n",
      "Using numpy backend.\n",
      "Using numpy backend.\n",
      "Using numpy backend.\n",
      "Using numpy backend.\n",
      "Using numpy backend.\n",
      "Using numpy backend.\n",
      "Using numpy backend.\n",
      "Using numpy backend.\n",
      "Using numpy backend.\n"
     ]
    },
    {
     "name": "stdout",
     "output_type": "stream",
     "text": [
      "[0.99987672 0.99992125 0.99988846 0.99990038 0.99979039 0.99990985\n",
      " 0.99979582 0.99995634 1.00006636 0.99993312]\n",
      "[1.40186325 1.2205138  1.12791601 1.08031329 1.06923319 1.04948896\n",
      " 1.04218529 1.03247775 1.02682488 1.02104524]\n",
      "[2.16750398 1.39125763 1.25700965 1.16171585 1.13204915 1.09869377\n",
      " 1.07278634 1.06289789 1.05068651 1.04139301]\n"
     ]
    },
    {
     "name": "stderr",
     "output_type": "stream",
     "text": [
      "Using numpy backend.\n",
      "Using numpy backend.\n",
      "Using numpy backend.\n",
      "Using numpy backend.\n",
      "Using numpy backend.\n",
      "Using numpy backend.\n",
      "Using numpy backend.\n",
      "Using numpy backend.\n",
      "Using numpy backend.\n",
      "Using numpy backend.\n",
      "Using numpy backend.\n",
      "Using numpy backend.\n",
      "Using numpy backend.\n",
      "Using numpy backend.\n",
      "Using numpy backend.\n"
     ]
    },
    {
     "ename": "KeyboardInterrupt",
     "evalue": "",
     "output_type": "error",
     "traceback": [
      "\u001b[0;31m---------------------------------------------------------------------------\u001b[0m",
      "\u001b[0;31mKeyboardInterrupt\u001b[0m                         Traceback (most recent call last)",
      "\u001b[0;32m<ipython-input-79-c263f8ba5d28>\u001b[0m in \u001b[0;36m<module>\u001b[0;34m()\u001b[0m\n\u001b[0;32m----> 1\u001b[0;31m \u001b[0mplot_row\u001b[0m\u001b[0;34m(\u001b[0m\u001b[0;34m'id'\u001b[0m\u001b[0;34m,\u001b[0m\u001b[0;36m5\u001b[0m\u001b[0;34m,\u001b[0m\u001b[0;36m1\u001b[0m\u001b[0;34m,\u001b[0m\u001b[0;34m\"id_hnoise.pdf\"\u001b[0m\u001b[0;34m,\u001b[0m\u001b[0mns\u001b[0m \u001b[0;34m=\u001b[0m \u001b[0mnp\u001b[0m\u001b[0;34m.\u001b[0m\u001b[0marange\u001b[0m\u001b[0;34m(\u001b[0m\u001b[0;36m200\u001b[0m\u001b[0;34m,\u001b[0m\u001b[0;36m601\u001b[0m\u001b[0;34m,\u001b[0m\u001b[0;36m200\u001b[0m\u001b[0;34m)\u001b[0m\u001b[0;34m,\u001b[0m \u001b[0msim_runs\u001b[0m \u001b[0;34m=\u001b[0m \u001b[0;36m1\u001b[0m\u001b[0;34m)\u001b[0m\u001b[0;34m\u001b[0m\u001b[0m\n\u001b[0m",
      "\u001b[0;32m<ipython-input-51-c98345e25479>\u001b[0m in \u001b[0;36mplot_row\u001b[0;34m(gen_type, r, noise_level, name, ns, dim, sim_runs)\u001b[0m\n\u001b[1;32m     14\u001b[0m             \u001b[0m_\u001b[0m\u001b[0;34m,\u001b[0m \u001b[0mrerr\u001b[0m \u001b[0;34m=\u001b[0m \u001b[0msimu\u001b[0m\u001b[0;34m.\u001b[0m\u001b[0mtwo_pass\u001b[0m\u001b[0;34m(\u001b[0m\u001b[0;34m)\u001b[0m\u001b[0;34m\u001b[0m\u001b[0m\n\u001b[1;32m     15\u001b[0m             \u001b[0mtwo_pass_rerr\u001b[0m\u001b[0;34m[\u001b[0m\u001b[0midx\u001b[0m\u001b[0;34m]\u001b[0m \u001b[0;34m=\u001b[0m \u001b[0mrerr\u001b[0m\u001b[0;34m\u001b[0m\u001b[0m\n\u001b[0;32m---> 16\u001b[0;31m             \u001b[0m_\u001b[0m\u001b[0;34m,\u001b[0m \u001b[0mrerr\u001b[0m \u001b[0;34m=\u001b[0m \u001b[0msimu\u001b[0m\u001b[0;34m.\u001b[0m\u001b[0mone_pass\u001b[0m\u001b[0;34m(\u001b[0m\u001b[0;34m)\u001b[0m\u001b[0;34m\u001b[0m\u001b[0m\n\u001b[0m\u001b[1;32m     17\u001b[0m             \u001b[0mone_pass_rerr\u001b[0m\u001b[0;34m[\u001b[0m\u001b[0midx\u001b[0m\u001b[0;34m]\u001b[0m \u001b[0;34m=\u001b[0m \u001b[0mrerr\u001b[0m\u001b[0;34m\u001b[0m\u001b[0m\n\u001b[1;32m     18\u001b[0m         \u001b[0mprint\u001b[0m\u001b[0;34m(\u001b[0m\u001b[0mho_svd_rerr\u001b[0m\u001b[0;34m)\u001b[0m\u001b[0;34m\u001b[0m\u001b[0m\n",
      "\u001b[0;32m~/workspace/SketchTensor/SketchTensor/simulation.py\u001b[0m in \u001b[0;36mone_pass\u001b[0;34m(self, store_phis)\u001b[0m\n\u001b[1;32m     63\u001b[0m \u001b[0;34m\u001b[0m\u001b[0m\n\u001b[1;32m     64\u001b[0m         \u001b[0mrecover_time\u001b[0m \u001b[0;34m=\u001b[0m \u001b[0mtime\u001b[0m\u001b[0;34m.\u001b[0m\u001b[0mtime\u001b[0m\u001b[0;34m(\u001b[0m\u001b[0;34m)\u001b[0m \u001b[0;34m-\u001b[0m \u001b[0mstart_time\u001b[0m\u001b[0;34m\u001b[0m\u001b[0m\n\u001b[0;32m---> 65\u001b[0;31m         \u001b[0mrerr\u001b[0m \u001b[0;34m=\u001b[0m \u001b[0meval_rerr\u001b[0m\u001b[0;34m(\u001b[0m\u001b[0mX\u001b[0m\u001b[0;34m,\u001b[0m\u001b[0mX_hat\u001b[0m\u001b[0;34m,\u001b[0m\u001b[0mX0\u001b[0m\u001b[0;34m)\u001b[0m\u001b[0;34m\u001b[0m\u001b[0m\n\u001b[0m\u001b[1;32m     66\u001b[0m         \u001b[0;32mreturn\u001b[0m \u001b[0;34m(\u001b[0m\u001b[0msketch_time\u001b[0m\u001b[0;34m,\u001b[0m \u001b[0mrecover_time\u001b[0m\u001b[0;34m)\u001b[0m\u001b[0;34m,\u001b[0m \u001b[0mrerr\u001b[0m\u001b[0;34m\u001b[0m\u001b[0m\n\u001b[1;32m     67\u001b[0m \u001b[0;34m\u001b[0m\u001b[0m\n",
      "\u001b[0;32m~/workspace/SketchTensor/SketchTensor/util.py\u001b[0m in \u001b[0;36meval_rerr\u001b[0;34m(X, X_hat, X0)\u001b[0m\n\u001b[1;32m    142\u001b[0m \u001b[0;34m\u001b[0m\u001b[0m\n\u001b[1;32m    143\u001b[0m \u001b[0;32mdef\u001b[0m \u001b[0meval_rerr\u001b[0m\u001b[0;34m(\u001b[0m\u001b[0mX\u001b[0m\u001b[0;34m,\u001b[0m\u001b[0mX_hat\u001b[0m\u001b[0;34m,\u001b[0m\u001b[0mX0\u001b[0m\u001b[0;34m)\u001b[0m\u001b[0;34m:\u001b[0m\u001b[0;34m\u001b[0m\u001b[0m\n\u001b[0;32m--> 144\u001b[0;31m     \u001b[0merror\u001b[0m \u001b[0;34m=\u001b[0m \u001b[0mX\u001b[0m\u001b[0;34m-\u001b[0m\u001b[0mX_hat\u001b[0m\u001b[0;34m\u001b[0m\u001b[0m\n\u001b[0m\u001b[1;32m    145\u001b[0m     \u001b[0;32mreturn\u001b[0m \u001b[0mnp\u001b[0m\u001b[0;34m.\u001b[0m\u001b[0mlinalg\u001b[0m\u001b[0;34m.\u001b[0m\u001b[0mnorm\u001b[0m\u001b[0;34m(\u001b[0m\u001b[0merror\u001b[0m\u001b[0;34m.\u001b[0m\u001b[0mreshape\u001b[0m\u001b[0;34m(\u001b[0m\u001b[0mnp\u001b[0m\u001b[0;34m.\u001b[0m\u001b[0msize\u001b[0m\u001b[0;34m(\u001b[0m\u001b[0merror\u001b[0m\u001b[0;34m)\u001b[0m\u001b[0;34m,\u001b[0m\u001b[0;36m1\u001b[0m\u001b[0;34m)\u001b[0m\u001b[0;34m,\u001b[0m\u001b[0;34m'fro'\u001b[0m\u001b[0;34m)\u001b[0m\u001b[0;34m/\u001b[0m\u001b[0mnp\u001b[0m\u001b[0;34m.\u001b[0m\u001b[0mlinalg\u001b[0m\u001b[0;34m.\u001b[0m\u001b[0mnorm\u001b[0m\u001b[0;34m(\u001b[0m\u001b[0mX0\u001b[0m\u001b[0;34m.\u001b[0m\u001b[0mreshape\u001b[0m\u001b[0;34m(\u001b[0m\u001b[0mnp\u001b[0m\u001b[0;34m.\u001b[0m\u001b[0msize\u001b[0m\u001b[0;34m(\u001b[0m\u001b[0mX0\u001b[0m\u001b[0;34m)\u001b[0m\u001b[0;34m,\u001b[0m\u001b[0;36m1\u001b[0m\u001b[0;34m)\u001b[0m\u001b[0;34m,\u001b[0m\u001b[0;34m'fro'\u001b[0m\u001b[0;34m)\u001b[0m\u001b[0;34m\u001b[0m\u001b[0m\n\u001b[1;32m    146\u001b[0m \u001b[0;34m\u001b[0m\u001b[0m\n",
      "\u001b[0;31mKeyboardInterrupt\u001b[0m: "
     ]
    },
    {
     "name": "stderr",
     "output_type": "stream",
     "text": [
      "/Users/apple/anaconda3/lib/python3.6/site-packages/matplotlib/axes/_base.py:1376: UserWarning: aspect is not supported for Axes with xscale=linear, yscale=log\n",
      "  'yscale=%s' % (xscale, yscale))\n"
     ]
    }
   ],
   "source": [
    "plot_row('id',5,1,\"id_hnoise.pdf\",ns = np.arange(200,601,200), sim_runs = 1)"
   ]
  },
  {
   "cell_type": "code",
   "execution_count": null,
   "metadata": {},
   "outputs": [],
   "source": [
    "plot_row('id',1,0.01,\"id_rk1.pdf\",ns = np.arange(200,601,200), sim_runs = 1)"
   ]
  },
  {
   "cell_type": "code",
   "execution_count": null,
   "metadata": {},
   "outputs": [],
   "source": [
    "plot_row('spd',5,0.01,\"spd.pdf\",ns = np.arange(200,601,200), sim_runs = 1)"
   ]
  },
  {
   "cell_type": "code",
   "execution_count": null,
   "metadata": {},
   "outputs": [],
   "source": [
    "plot_row('fpd',5,0.01,\"fpd.pdf\",ns = np.arange(200,601,200), sim_runs = 1)"
   ]
  },
  {
   "cell_type": "code",
   "execution_count": null,
   "metadata": {},
   "outputs": [],
   "source": [
    "plot_row('sed',5,0.01,\"sed.pdf\",ns = np.arange(200,601,200), sim_runs = 1)"
   ]
  },
  {
   "cell_type": "code",
   "execution_count": null,
   "metadata": {},
   "outputs": [],
   "source": [
    "plot_row('fed',5,0.01,\"fed.pdf\",ns = np.arange(200,601,200), sim_runs = 1)"
   ]
  },
  {
   "cell_type": "code",
   "execution_count": null,
   "metadata": {},
   "outputs": [],
   "source": [
    "plot_row('lk',5,0.01,\"lk.pdf\",ns = np.arange(200,601,200), sim_runs = 1)"
   ]
  },
  {
   "cell_type": "code",
   "execution_count": null,
   "metadata": {
    "collapsed": true
   },
   "outputs": [],
   "source": []
  }
 ],
 "metadata": {
  "kernelspec": {
   "display_name": "Python 3",
   "language": "python",
   "name": "python3"
  },
  "language_info": {
   "codemirror_mode": {
    "name": "ipython",
    "version": 3
   },
   "file_extension": ".py",
   "mimetype": "text/x-python",
   "name": "python",
   "nbconvert_exporter": "python",
   "pygments_lexer": "ipython3",
   "version": "3.6.3"
  }
 },
 "nbformat": 4,
 "nbformat_minor": 2
}
