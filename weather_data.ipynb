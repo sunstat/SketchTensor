{
 "cells": [
  {
   "cell_type": "code",
   "execution_count": 6,
   "metadata": {},
   "outputs": [],
   "source": [
    "import netCDF4 as nc\n",
    "import numpy as np\n",
    "import matplotlib.pyplot as plt \n",
    "import pickle\n",
    "import tensorly\n",
    "import matplotlib.ticker as ticker\n",
    "from simulation_realdata import *"
   ]
  },
  {
   "cell_type": "code",
   "execution_count": 4,
   "metadata": {},
   "outputs": [],
   "source": [
    "import netCDF4 as nc\n",
    "import numpy as np\n",
    "import matplotlib.pyplot as plt \n",
    "import pickle\n",
    "import tensorly\n",
    "import matplotlib.ticker as ticker\n",
    "from simulation_realdata import *\n",
    "\n",
    "\n",
    "def simrun_name(name, inv_factor): \n",
    "    return \"data/\"+name+\"_frk\"+str(inv_factor)+\".pickle\"\n",
    "def simplot_name(name, inv_factor): \n",
    "    return \"plots/\"+name+\"_frk\"+str(inv_factor)+\".pdf\" \n",
    "\n",
    "def run_realdata_frk(data, inv_factor, name, random_seed = 1): \n",
    "    ranks = (np.array(data.shape)/inv_factor).astype(int)    \n",
    "    _, ho_svd_rerr = tucker_data(data, ranks) \n",
    "    tucker_result = np.repeat(ho_svd_rerr, len(np.arange(2/inv_factor,2/5, (2/5 -1/inv_factor)/10))).tolist()\n",
    "    one_pass_result = []\n",
    "    two_pass_result = []\n",
    "    for factor in np.arange(2/inv_factor,2/5, (2/5 -1/inv_factor)/10):  \n",
    "        ks = (np.array(data.shape)*factor).astype(int)\n",
    "        ss = 2*ks+1 \n",
    "        _, two_pass_rerr = two_pass_data(data, ranks, ks)\n",
    "        _, one_pass_rerr = one_pass_data(data, ranks, ks, ss) \n",
    "        one_pass_result.append(one_pass_rerr)\n",
    "        two_pass_result.append(two_pass_rerr)\n",
    "    result = [tucker_result, two_pass_result, one_pass_result] \n",
    "    pickle.dump( result, open(simrun_name(name,inv_factor), \"wb\" ) )\n",
    "    return result\n",
    "\n",
    "def plot_realdata_frk(data, inv_factor, name, fontsize = 18): \n",
    "    ranks = (np.array(data.shape)/inv_factor).astype(int)    \n",
    "    kratio = np.arange(2/inv_factor,2/5, (2/5 -1/inv_factor)/10)\n",
    "    result = pickle.load(open(simrun_name(name, inv_factor), \"rb\" ) )\n",
    "    plt.rc('font', **{'family': 'serif', 'serif': ['Computer Modern']})\n",
    "    plt.rc('text', usetex=True)    \n",
    "    plt.figure(figsize=(6,5))\n",
    "    plt.plot(kratio,result[0], label = 'HOOI', linestyle = ':', marker = 'o', markeredgewidth=1,markeredgecolor='g', markerfacecolor='None') \n",
    "    plt.plot(kratio,result[1], label = 'Two Pass',linestyle = '--',marker = 'X')\n",
    "    plt.plot(kratio,result[2], label = 'One Pass', marker = 's',markeredgewidth=1,markeredgecolor='orange', markerfacecolor='None') \n",
    "    plt.legend(loc = 'best')\n",
    "    plt.title(\"rk/I = %s\"%round(1/inv_factor,3))\n",
    "    plt.xlabel('k/I')\n",
    "    plt.ylabel('Relative Error')\n",
    "    plt.yscale('log')\n",
    "    plt.minorticks_off()\n",
    "    alldata = np.concatenate(result)\n",
    "    ymin = min(alldata)\n",
    "    ymax = max(alldata) \n",
    "    def round_to_n(x,n): \n",
    "        return round(x,-int(np.floor(np.log10(abs(x))))+n-1) \n",
    "    ticks = [round_to_n(i,3) for i in np.arange(ymin, ymax+(ymax-ymin)/5,(ymax-ymin)/5)] \n",
    "    plt.yticks(ticks)\n",
    "    plt.axes().yaxis.set_major_formatter(ticker.FormatStrFormatter('%.2e')) \n",
    "    plt.axes().title.set_fontsize(fontsize)\n",
    "    plt.axes().xaxis.label.set_fontsize(fontsize)\n",
    "    plt.axes().yaxis.label.set_fontsize(fontsize)\n",
    "    plt.rc('legend',fontsize = fontsize)\n",
    "    plt.rc('xtick', labelsize = fontsize) \n",
    "    plt.rc('ytick', labelsize = fontsize) \n",
    "    plt.tight_layout()\n",
    "    plt.savefig(simplot_name(name,inv_factor))\n",
    "    plt.show()"
   ]
  },
  {
   "cell_type": "code",
   "execution_count": 3,
   "metadata": {
    "collapsed": true
   },
   "outputs": [],
   "source": [
    "PSL = nc.Dataset(\"data/b.e11.B1850C5CN.f09_g16.005.cam.h0.PSL.200001-209912.nc\").variables['PSL'][:] \n",
    "CLOUD = nc.Dataset(\"data/b.e11.BRCP85C5CNBDRD.f09_g16.013.cam.h0.CLOUD.208101-210012.nc\").variables['CLOUD'][:]"
   ]
  },
  {
   "cell_type": "code",
   "execution_count": 8,
   "metadata": {},
   "outputs": [],
   "source": [
    "AODABS = nc.Dataset(\"data/b.e11.B1850C5CN.f09_g16.005.cam.h0.AODABS.040001-049912.nc\").variables['AODABS'][:] \n",
    "AODABS = AODABS.filled(AODABS.mean())"
   ]
  },
  {
   "cell_type": "code",
   "execution_count": 11,
   "metadata": {},
   "outputs": [],
   "source": [
    "ABSORB = nc.Dataset(\"data/b.e11.BRCP85C5CNBDRD.f09_g16.023.cam.h0.ABSORB.208101-210012.nc\").variables['ABSORB'][:]"
   ]
  },
  {
   "cell_type": "code",
   "execution_count": 13,
   "metadata": {},
   "outputs": [],
   "source": [
    "ABSORB = ABSORB.filled(ABSORB.mean())"
   ]
  },
  {
   "cell_type": "code",
   "execution_count": 15,
   "metadata": {},
   "outputs": [],
   "source": [
    "SRFRAD = nc.Dataset(\"data/b.e11.B1850C5CN.f09_g16.005.cam.h0.SRFRAD.040001-049912.nc\").variables['SRFRAD'][:]"
   ]
  },
  {
   "cell_type": "code",
   "execution_count": 16,
   "metadata": {
    "collapsed": true
   },
   "outputs": [],
   "source": [
    "BURDENDUST = nc.Dataset(\"data/b.e11.B1850C5CN.f09_g16.005.cam.h0.BURDENDUST.040001-049912.nc\").variables['BURDENDUST'][:]"
   ]
  },
  {
   "cell_type": "code",
   "execution_count": null,
   "metadata": {
    "collapsed": true
   },
   "outputs": [],
   "source": [
    "run_realdata_frk(CLOUD,15,\"CLOUD\")\n",
    "run_realdata_frk(CLOUD,10,\"CLOUD\")\n",
    "run_realdata_frk(CLOUD,8,\"CLOUD\")\n",
    "run_realdata_frk(PSL,15,\"PSL\")\n",
    "run_realdata_frk(PSL,10,\"PSL\")\n",
    "run_realdata_frk(PSL,8,\"PSL\")\n",
    "run_realdata_frk(ABSORB,15,\"ABSORB\")\n",
    "run_realdata_frk(ABSORB,10,\"ABSORB\")\n",
    "run_realdata_frk(ABSORB,8,\"ABSORB\")\n",
    "run_realdata_frk(AODABS,15,\"AODABS\")\n",
    "run_realdata_frk(AODABS,10,\"AODABS\")\n",
    "run_realdata_frk(AODABS,8,\"AODABS\")\n",
    "run_realdata_frk(ABSORB,15,\"ABSORB\")\n",
    "run_realdata_frk(ABSORB,10,\"ABSORB\")\n",
    "run_realdata_frk(ABSORB,8,\"ABSORB\")\n",
    "run_realdata_frk(SRFRAD,15,\"SRFRAD\")\n",
    "run_realdata_frk(SRFRAD,10,\"SRFRAD\")\n",
    "run_realdata_frk(SRFRAD,8,\"SRFRAD\")\n",
    "run_realdata_frk(BURDENDUST,15,\"BURDENDUST\")\n",
    "run_realdata_frk(BURDENDUST,10,\"BURDENDUST\")\n",
    "run_realdata_frk(BURDENDUST,8,\"BURDENDUST\")"
   ]
  },
  {
   "cell_type": "code",
   "execution_count": null,
   "metadata": {},
   "outputs": [
    {
     "name": "stderr",
     "output_type": "stream",
     "text": [
      "Using numpy backend.\n",
      "Using numpy backend.\n",
      "Using numpy backend.\n",
      "Using numpy backend.\n",
      "Using numpy backend.\n",
      "Using numpy backend.\n",
      "Using numpy backend.\n",
      "Using numpy backend.\n",
      "Using numpy backend.\n"
     ]
    }
   ],
   "source": [
    "run_realdata_frk(SRFRAD,15,\"SRFRAD\")\n",
    "run_realdata_frk(SRFRAD,10,\"SRFRAD\")\n",
    "run_realdata_frk(SRFRAD,8,\"SRFRAD\")\n",
    "run_realdata_frk(BURDENDUST,15,\"BURDENDUST\")\n",
    "run_realdata_frk(BURDENDUST,10,\"BURDENDUST\")\n",
    "run_realdata_frk(BURDENDUST,8,\"BURDENDUST\")"
   ]
  },
  {
   "cell_type": "code",
   "execution_count": null,
   "metadata": {
    "collapsed": true
   },
   "outputs": [],
   "source": []
  }
 ],
 "metadata": {
  "kernelspec": {
   "display_name": "Python 3",
   "language": "python",
   "name": "python3"
  },
  "language_info": {
   "codemirror_mode": {
    "name": "ipython",
    "version": 3
   },
   "file_extension": ".py",
   "mimetype": "text/x-python",
   "name": "python",
   "nbconvert_exporter": "python",
   "pygments_lexer": "ipython3",
   "version": "3.6.3"
  }
 },
 "nbformat": 4,
 "nbformat_minor": 2
}
