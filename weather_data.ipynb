{
 "cells": [
  {
   "cell_type": "code",
   "execution_count": 93,
   "metadata": {},
   "outputs": [
    {
     "name": "stderr",
     "output_type": "stream",
     "text": [
      "Using mxnet backend.\n",
      "/Users/apple/anaconda3/lib/python3.6/site-packages/h5py/__init__.py:34: FutureWarning: Conversion of the second argument of issubdtype from `float` to `np.floating` is deprecated. In future, it will be treated as `np.float64 == np.dtype(float).type`.\n",
      "  from ._conv import register_converters as _register_converters\n",
      "/Users/apple/anaconda3/lib/python3.6/site-packages/urllib3/contrib/pyopenssl.py:46: DeprecationWarning: OpenSSL.rand is deprecated - you should use os.urandom instead\n",
      "  import OpenSSL.SSL\n",
      "Using numpy backend.\n"
     ]
    }
   ],
   "source": [
    "import netCDF4 as nc\n",
    "import numpy as np\n",
    "import matplotlib.pyplot as plt \n",
    "import pickle\n",
    "from visualization_server import * \n",
    "import numpy as np\n",
    "from scipy import fftpack\n",
    "import tensorly as tl\n",
    "from util import square_tensor_gen, TensorInfoBucket, RandomInfoBucket, eval_mse, eval_rerr\n",
    "from sketch import Sketch\n",
    "import time\n",
    "from tensorly.decomposition import tucker\n",
    "from sketch_recover import SketchTwoPassRecover\n",
    "from sketch_recover import SketchOnePassRecover\n",
    "\n",
    "\n",
    "data = nc.Dataset(\"data/b.e11.B20TRC5CNBDRD.f09_g16.104.cice.h.rain_ai_sh.192001-200512.nc\")\n",
    "rain_ai = data.variables['rain_ai'][:] \n",
    "pickle.dump( rain_ai, open(\"data/rain_ai.pickle\", \"wb\" ) )\n",
    "rain_ai = pickle.load( open( \"data/rain_ai.pickle\", \"rb\" ) ) "
   ]
  },
  {
   "cell_type": "code",
   "execution_count": 94,
   "metadata": {},
   "outputs": [
    {
     "data": {
      "text/plain": [
       "(1032, 76, 320)"
      ]
     },
     "execution_count": 94,
     "metadata": {},
     "output_type": "execute_result"
    }
   ],
   "source": [
    "train = rain_ai.filled(rain_ai.mean())\n",
    "train.shape"
   ]
  },
  {
   "cell_type": "code",
   "execution_count": 139,
   "metadata": {
    "collapsed": true
   },
   "outputs": [],
   "source": [
    "def run_hosvd(X,rk,random_seed = 1):\n",
    "    core, tucker_factors = tucker(X, ranks = [rk for _ in range(X.ndim)], init = 'svd')\n",
    "    X_hat = tl.tucker_to_tensor(core, tucker_factors)\n",
    "    rerr = eval_rerr(X,X_hat,X)\n",
    "    return rerr\n",
    "\n",
    "def run_twopass(X,rk,k,random_seed = 1): \n",
    "    dim = X.ndim\n",
    "    sketch = Sketch(X, k, random_seed = random_seed)  \n",
    "    sketchs,_  = sketch.get_sketchs()\n",
    "    sketch_two_pass = SketchTwoPassRecover(X, sketchs, np.repeat(rk,dim))\n",
    "    X_hat,_,_ = sketch_two_pass.recover()\n",
    "    rerr = eval_rerr(X,X_hat,X)\n",
    "    return rerr\n",
    "    \n",
    "def run_onepass(X,rk,k,s,random_seed = 1, store_phis = True):\n",
    "    dim = X.ndim\n",
    "    sketch = Sketch(X,k,random_seed = random_seed, s = s, store_phis = store_phis)\n",
    "    sketchs, core_sketch = sketch.get_sketchs()\n",
    "    sketch_one_pass = SketchOnePassRecover(sketchs,core_sketch,\\\n",
    "            TensorInfoBucket(X.shape,k,np.repeat\\\n",
    "                (rk,dim),s),RandomInfoBucket(random_seed = random_seed),\\\n",
    "            sketch.get_phis())\n",
    "    X_hat, _,_ = sketch_one_pass.recover()\n",
    "    rerr = eval_rerr(X,X_hat,X)\n",
    "    return rerr"
   ]
  },
  {
   "cell_type": "code",
   "execution_count": 140,
   "metadata": {
    "collapsed": true
   },
   "outputs": [],
   "source": [
    "def simreal_name(k): \n",
    "    return \"realdata_k\"+k\n",
    "    \n",
    "def run_realdata(data = \"rain_ai\",t = 200,sim_runs = 1,random_seed = 1): \n",
    "    rain_ai = pickle.load( open( \"data/\"+data+\".pickle\", \"rb\" ) ) \n",
    "    train = rain_ai.filled(rain_ai.mean())\n",
    "    # Fill in the missing value with the average value\n",
    "    train = train[:,:,range(t)]\n",
    "    k = int(np.ceil(1/2.1*min(train.shape)))\n",
    "    rks = (np.ceil(np.arange(0.1,0.6,0.1)*k)).astype(int)\n",
    "    print(k,rks)\n",
    "    ho_svd_rerr = np.zeros(rks.size)\n",
    "    two_pass_rerr = np.zeros(rks.size)\n",
    "    one_pass_rerr = np.zeros(rks.size)\n",
    "    for idrk, rk in enumerate(rks):               \n",
    "        s = 2*k +1\n",
    "        ho_svd_rerr[idrk] = run_hosvd(train,rk) \n",
    "        two_pass_rerr[idrk] = run_twopass(train,rk,k) \n",
    "        one_pass_rerr[idrk] = run_onepass(train,rk,k,s)\n",
    "    return [ho_svd_rerr, two_pass_rerr, one_pass_rerr]"
   ]
  },
  {
   "cell_type": "code",
   "execution_count": 141,
   "metadata": {},
   "outputs": [
    {
     "name": "stdout",
     "output_type": "stream",
     "text": [
      "37 [ 4  8 12 15 19]\n"
     ]
    },
    {
     "name": "stderr",
     "output_type": "stream",
     "text": [
      "Using numpy backend.\n",
      "Using numpy backend.\n",
      "Using numpy backend.\n",
      "Using numpy backend.\n",
      "Using numpy backend.\n",
      "Using numpy backend.\n",
      "Using numpy backend.\n",
      "Using numpy backend.\n",
      "Using numpy backend.\n",
      "Using numpy backend.\n",
      "Using numpy backend.\n",
      "Using numpy backend.\n",
      "Using numpy backend.\n",
      "Using numpy backend.\n",
      "Using numpy backend.\n",
      "Using numpy backend.\n",
      "Using numpy backend.\n",
      "Using numpy backend.\n",
      "Using numpy backend.\n",
      "Using numpy backend.\n"
     ]
    }
   ],
   "source": [
    "result = run_realdata()"
   ]
  },
  {
   "cell_type": "code",
   "execution_count": 142,
   "metadata": {},
   "outputs": [
    {
     "data": {
      "text/plain": [
       "[array([0.70594174, 0.60592282, 0.54697168, 0.51269895, 0.47556704]),\n",
       " array([0.72867953, 0.65183343, 0.61373024, 0.59423629, 0.57598528]),\n",
       " array([0.76824155, 0.74669489, 0.74827961, 0.75281235, 0.75680434])]"
      ]
     },
     "execution_count": 142,
     "metadata": {},
     "output_type": "execute_result"
    }
   ],
   "source": [
    "result"
   ]
  }
 ],
 "metadata": {
  "kernelspec": {
   "display_name": "Python 3",
   "language": "python",
   "name": "python3"
  },
  "language_info": {
   "codemirror_mode": {
    "name": "ipython",
    "version": 3
   },
   "file_extension": ".py",
   "mimetype": "text/x-python",
   "name": "python",
   "nbconvert_exporter": "python",
   "pygments_lexer": "ipython3",
   "version": "3.6.3"
  }
 },
 "nbformat": 4,
 "nbformat_minor": 2
}
